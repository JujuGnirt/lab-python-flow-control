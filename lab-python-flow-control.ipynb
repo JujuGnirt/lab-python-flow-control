{
 "cells": [
  {
   "cell_type": "markdown",
   "id": "d3bfc191-8885-42ee-b0a0-bbab867c6f9f",
   "metadata": {
    "tags": []
   },
   "source": [
    "# Lab | Flow Control"
   ]
  },
  {
   "cell_type": "markdown",
   "id": "3851fcd1-cf98-4653-9c89-e003b7ec9400",
   "metadata": {},
   "source": [
    "## Exercise: Managing Customer Orders Optimized\n",
    "\n",
    "In the last lab, you were starting an online store that sells various products. To ensure smooth operations, you developed a program that manages customer orders and inventory.\n",
    "\n",
    "You did so without using flow control. Let's go a step further and improve this code.\n",
    "\n",
    "Follow the steps below to complete the exercise:\n",
    "\n",
    "1. Look at your code from the lab data structures, and improve repeated code with loops.\n",
    "\n",
    "2. Instead of asking the user to input the name of three products that a customer wants to order, do the following:\n",
    "    \n",
    "    a. Prompt the user to enter the name of a product that a customer wants to order.\n",
    "    \n",
    "    b. Add the product name to the \"customer_orders\" set.\n",
    "    \n",
    "    c. Ask the user if they want to add another product (yes/no).\n",
    "    \n",
    "    d. Continue the loop until the user does not want to add another product.\n",
    "\n",
    "3. Instead of updating the inventory by subtracting 1 from the quantity of each product, only do it for  the products that were ordered (those in \"customer_orders\")."
   ]
  },
  {
   "cell_type": "code",
   "execution_count": 9,
   "id": "c47155b7-2836-4e37-8842-70d58a8eaecb",
   "metadata": {
    "scrolled": true
   },
   "outputs": [
    {
     "name": "stdin",
     "output_type": "stream",
     "text": [
      "Enter the quantity of t-shirt:  1\n",
      "Enter the quantity of mug:  2\n",
      "Enter the quantity of hat:  3\n",
      "Enter the quantity of book:  4\n",
      "Enter the quantity of keychain:  5\n",
      "Enter the name of a product that the customer wants : ['t-shirt', 'mug', 'hat', 'book', 'keychain'] mug\n",
      " Want to do another purchase, answser : yes or no no\n"
     ]
    },
    {
     "name": "stdout",
     "output_type": "stream",
     "text": [
      "This is the customer order : {'mug'}\n",
      "Order Statistics:\n",
      "Total Products Ordered: 1.\n",
      "Percentage of Products Ordered: 6.67%. \n",
      "This is the inventory after customer order :\n",
      "t-shirt : 1\n",
      "mug : 1\n",
      "hat : 3\n",
      "book : 4\n",
      "keychain : 5\n",
      "{'mug'}\n"
     ]
    }
   ],
   "source": [
    "list_products = [\"t-shirt\", \"mug\", \"hat\", \"book\", \"keychain\"]\n",
    "inventory = {}\n",
    "customer_orders = set()\n",
    "customer_status = True\n",
    "\n",
    "for product in list_products :\n",
    "    quantity = int(input(f\"Enter the quantity of {product}: \"))\n",
    "    inventory[product] = quantity\n",
    "    \n",
    "while customer_status == True:\n",
    "    customer_orders.add(input(f\"Enter the name of a product that the customer wants : {list_products}\"))\n",
    "    customer_answer = (input(f\" Want to do another purchase, answser : yes or no\"))\n",
    "    if customer_answer == \"yes\" :\n",
    "        customer_status = True\n",
    "    else :\n",
    "        customer_status = False\n",
    "        break\n",
    "\n",
    "total_prod_ordered = len(customer_orders)\n",
    "total_inventory = sum(inventory.values())\n",
    "percentage_products_ordered = (total_prod_ordered / total_inventory)*100\n",
    "order_status = (total_prod_ordered, percentage_products_ordered) \n",
    "\n",
    "for product in customer_orders :\n",
    "    if product in inventory and inventory[product] > 0:\n",
    "        inventory[product] -= 1\n",
    "                                     \n",
    "print(f\"This is the customer order : {customer_orders}\")\n",
    "print(\"Order Statistics:\")\n",
    "print(f\"Total Products Ordered: {order_status[0]}.\")\n",
    "print(f\"Percentage of Products Ordered: {order_status[1]:.2f}%. \")\n",
    "\n",
    "print(f\"This is the inventory after customer order :\")\n",
    "for product, quantity in inventory.items():\n",
    "    print (f\"{product} : {quantity}\") \n",
    "print(customer_orders)"
   ]
  }
 ],
 "metadata": {
  "kernelspec": {
   "display_name": "Python 3 (ipykernel)",
   "language": "python",
   "name": "python3"
  },
  "language_info": {
   "codemirror_mode": {
    "name": "ipython",
    "version": 3
   },
   "file_extension": ".py",
   "mimetype": "text/x-python",
   "name": "python",
   "nbconvert_exporter": "python",
   "pygments_lexer": "ipython3",
   "version": "3.12.7"
  }
 },
 "nbformat": 4,
 "nbformat_minor": 5
}
